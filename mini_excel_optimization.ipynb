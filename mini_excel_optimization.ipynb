{
 "cells": [
  {
   "cell_type": "markdown",
   "id": "8f32efab",
   "metadata": {},
   "source": [
    "\n",
    "**Pyton  + Excel Automation**"
   ]
  },
  {
   "cell_type": "code",
   "execution_count": 1,
   "id": "5a870ae4",
   "metadata": {},
   "outputs": [],
   "source": [
    "# Importing libraries\n",
    "import pandas as pd\n",
    "import openpyxl as ol"
   ]
  },
  {
   "cell_type": "code",
   "execution_count": null,
   "id": "b58b7954",
   "metadata": {},
   "outputs": [],
   "source": [
    "# Storing file paths\n",
    "FILENAME1= \"\"\n",
    "FILENAME2= \"\""
   ]
  }
 ],
 "metadata": {
  "kernelspec": {
   "display_name": "Python 3",
   "language": "python",
   "name": "python3"
  },
  "language_info": {
   "codemirror_mode": {
    "name": "ipython",
    "version": 3
   },
   "file_extension": ".py",
   "mimetype": "text/x-python",
   "name": "python",
   "nbconvert_exporter": "python",
   "pygments_lexer": "ipython3",
   "version": "3.10.12"
  }
 },
 "nbformat": 4,
 "nbformat_minor": 5
}
