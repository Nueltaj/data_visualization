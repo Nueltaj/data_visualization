{
 "cells": [
  {
   "cell_type": "markdown",
   "id": "3e92dad4",
   "metadata": {},
   "source": [
    "** This script generates a summary of the top categories. **\n",
    "An Excel sheet would be generated for products in various categories that hve the highest sales\n"
   ]
  },
  {
   "cell_type": "code",
   "execution_count": 2,
   "id": "0b1686df",
   "metadata": {},
   "outputs": [],
   "source": [
    "# Importing libaries\n",
    "import pandas as pd\n",
    "from openpyxl import load_workbook\n",
    "from openpyxl.styles import Font, PatternFill\n",
    "from openpyxl.utils import get_column_letter"
   ]
  },
  {
   "cell_type": "code",
   "execution_count": 3,
   "id": "18daa96a",
   "metadata": {},
   "outputs": [
    {
     "data": {
      "text/plain": [
       "<bound method NDFrame.head of                                                category actual_price\n",
       "0     Computers&Accessories|Accessories&Peripherals|...       ₹1,099\n",
       "1     Computers&Accessories|Accessories&Peripherals|...         ₹349\n",
       "2     Computers&Accessories|Accessories&Peripherals|...       ₹1,899\n",
       "3     Computers&Accessories|Accessories&Peripherals|...         ₹699\n",
       "4     Computers&Accessories|Accessories&Peripherals|...         ₹399\n",
       "...                                                 ...          ...\n",
       "1460  Home&Kitchen|Kitchen&HomeAppliances|WaterPurif...         ₹919\n",
       "1461  Home&Kitchen|Kitchen&HomeAppliances|SmallKitch...       ₹3,045\n",
       "1462  Home&Kitchen|Heating,Cooling&AirQuality|RoomHe...       ₹3,080\n",
       "1463  Home&Kitchen|Heating,Cooling&AirQuality|Fans|E...       ₹1,890\n",
       "1464  Home&Kitchen|Kitchen&HomeAppliances|SmallKitch...       ₹3,690\n",
       "\n",
       "[1465 rows x 2 columns]>"
      ]
     },
     "execution_count": 3,
     "metadata": {},
     "output_type": "execute_result"
    }
   ],
   "source": [
    "# Storing the filepath\n",
    "FILE = \"amazon.xlsx\"\n",
    "# read the Excel file\n",
    "df = pd.read_excel(FILE)\n",
    "df = df[[\"category\", \"actual_price\"]]\n",
    "df.head"
   ]
  },
  {
   "cell_type": "code",
   "execution_count": 4,
   "id": "81da9ac1",
   "metadata": {},
   "outputs": [
    {
     "name": "stdout",
     "output_type": "stream",
     "text": [
      "<class 'pandas.core.frame.DataFrame'>\n",
      "RangeIndex: 1465 entries, 0 to 1464\n",
      "Data columns (total 2 columns):\n",
      " #   Column        Non-Null Count  Dtype \n",
      "---  ------        --------------  ----- \n",
      " 0   category      1465 non-null   object\n",
      " 1   actual_price  1465 non-null   object\n",
      "dtypes: object(2)\n",
      "memory usage: 23.0+ KB\n"
     ]
    }
   ],
   "source": [
    "# Data cleaning\n",
    "df.isna().any()\n",
    "# check for duplicated values\n",
    "df.duplicated()\n",
    "# info\n",
    "df.info()"
   ]
  },
  {
   "cell_type": "code",
   "execution_count": 5,
   "id": "f12275fa",
   "metadata": {},
   "outputs": [
    {
     "data": {
      "application/vnd.microsoft.datawrangler.viewer.v0+json": {
       "columns": [
        {
         "name": "index",
         "rawType": "int64",
         "type": "integer"
        },
        {
         "name": "category",
         "rawType": "object",
         "type": "string"
        },
        {
         "name": "actual_price",
         "rawType": "float64",
         "type": "float"
        }
       ],
       "conversionMethod": "pd.DataFrame",
       "ref": "d10b982a-e823-415e-a79a-81cdc0417c85",
       "rows": [
        [
         "0",
         "Computers&Accessories|Accessories&Peripherals|Cables&Accessories|Cables|USBCables",
         "1099.0"
        ],
        [
         "1",
         "Computers&Accessories|Accessories&Peripherals|Cables&Accessories|Cables|USBCables",
         "349.0"
        ],
        [
         "2",
         "Computers&Accessories|Accessories&Peripherals|Cables&Accessories|Cables|USBCables",
         "1899.0"
        ],
        [
         "3",
         "Computers&Accessories|Accessories&Peripherals|Cables&Accessories|Cables|USBCables",
         "699.0"
        ],
        [
         "4",
         "Computers&Accessories|Accessories&Peripherals|Cables&Accessories|Cables|USBCables",
         "399.0"
        ],
        [
         "5",
         "Computers&Accessories|Accessories&Peripherals|Cables&Accessories|Cables|USBCables",
         "1000.0"
        ],
        [
         "6",
         "Computers&Accessories|Accessories&Peripherals|Cables&Accessories|Cables|USBCables",
         "499.0"
        ],
        [
         "7",
         "Computers&Accessories|Accessories&Peripherals|Cables&Accessories|Cables|USBCables",
         "299.0"
        ],
        [
         "8",
         "Computers&Accessories|NetworkingDevices|NetworkAdapters|WirelessUSBAdapters",
         "999.0"
        ],
        [
         "9",
         "Computers&Accessories|Accessories&Peripherals|Cables&Accessories|Cables|USBCables",
         "299.0"
        ],
        [
         "10",
         "Computers&Accessories|Accessories&Peripherals|Cables&Accessories|Cables|USBCables",
         "339.0"
        ],
        [
         "11",
         "Computers&Accessories|Accessories&Peripherals|Cables&Accessories|Cables|USBCables",
         "799.0"
        ],
        [
         "12",
         "Electronics|HomeTheater,TV&Video|Accessories|Cables|HDMICables",
         "700.0"
        ],
        [
         "13",
         "Computers&Accessories|Accessories&Peripherals|Cables&Accessories|Cables|USBCables",
         "899.0"
        ],
        [
         "14",
         "Computers&Accessories|Accessories&Peripherals|Cables&Accessories|Cables|USBCables",
         "399.0"
        ],
        [
         "15",
         "Computers&Accessories|Accessories&Peripherals|Cables&Accessories|Cables|USBCables",
         "399.0"
        ],
        [
         "16",
         "Electronics|HomeTheater,TV&Video|Televisions|SmartTelevisions",
         "24999.0"
        ],
        [
         "17",
         "Computers&Accessories|Accessories&Peripherals|Cables&Accessories|Cables|USBCables",
         "399.0"
        ],
        [
         "18",
         "Computers&Accessories|Accessories&Peripherals|Cables&Accessories|Cables|USBCables",
         "499.0"
        ],
        [
         "19",
         "Electronics|HomeTheater,TV&Video|Televisions|SmartTelevisions",
         "21990.0"
        ],
        [
         "20",
         "Computers&Accessories|Accessories&Peripherals|Cables&Accessories|Cables|USBCables",
         "1799.0"
        ],
        [
         "21",
         "Electronics|HomeTheater,TV&Video|Accessories|Cables|HDMICables",
         "499.0"
        ],
        [
         "22",
         "Electronics|HomeTheater,TV&Video|Televisions|SmartTelevisions",
         "22900.0"
        ],
        [
         "23",
         "Computers&Accessories|Accessories&Peripherals|Cables&Accessories|Cables|USBCables",
         "199.0"
        ],
        [
         "24",
         "Electronics|HomeTheater,TV&Video|Televisions|SmartTelevisions",
         "19990.0"
        ],
        [
         "25",
         "Electronics|HomeTheater,TV&Video|Accessories|Cables|HDMICables",
         "699.0"
        ],
        [
         "26",
         "Electronics|HomeTheater,TV&Video|Televisions|SmartTelevisions",
         "19999.0"
        ],
        [
         "27",
         "Computers&Accessories|Accessories&Peripherals|Cables&Accessories|Cables|USBCables",
         "399.0"
        ],
        [
         "28",
         "Computers&Accessories|Accessories&Peripherals|Cables&Accessories|Cables|USBCables",
         "1999.0"
        ],
        [
         "29",
         "Computers&Accessories|Accessories&Peripherals|Cables&Accessories|Cables|USBCables",
         "999.0"
        ],
        [
         "30",
         "Computers&Accessories|Accessories&Peripherals|Cables&Accessories|Cables|USBCables",
         "750.0"
        ],
        [
         "31",
         "Computers&Accessories|Accessories&Peripherals|Cables&Accessories|Cables|USBCables",
         "499.0"
        ],
        [
         "32",
         "Computers&Accessories|Accessories&Peripherals|Cables&Accessories|Cables|USBCables",
         "1099.0"
        ],
        [
         "33",
         "Computers&Accessories|Accessories&Peripherals|Cables&Accessories|Cables|USBCables",
         "599.0"
        ],
        [
         "34",
         "Computers&Accessories|Accessories&Peripherals|Cables&Accessories|Cables|USBCables",
         "999.0"
        ],
        [
         "35",
         "Computers&Accessories|Accessories&Peripherals|Cables&Accessories|Cables|USBCables",
         "666.66"
        ],
        [
         "36",
         "Computers&Accessories|Accessories&Peripherals|Cables&Accessories|Cables|USBCables",
         "1900.0"
        ],
        [
         "37",
         "Computers&Accessories|Accessories&Peripherals|Cables&Accessories|Cables|USBCables",
         "999.0"
        ],
        [
         "38",
         "Electronics|HomeTheater,TV&Video|Televisions|SmartTelevisions",
         "45999.0"
        ],
        [
         "39",
         "Computers&Accessories|Accessories&Peripherals|Cables&Accessories|Cables|USBCables",
         "1999.0"
        ],
        [
         "40",
         "Computers&Accessories|Accessories&Peripherals|Cables&Accessories|Cables|USBCables",
         "695.0"
        ],
        [
         "41",
         "Electronics|HomeTheater,TV&Video|Televisions|SmartTelevisions",
         "34999.0"
        ],
        [
         "42",
         "Computers&Accessories|Accessories&Peripherals|Cables&Accessories|Cables|USBCables",
         "1099.0"
        ],
        [
         "43",
         "Computers&Accessories|NetworkingDevices|NetworkAdapters|WirelessUSBAdapters",
         "1599.0"
        ],
        [
         "44",
         "Computers&Accessories|Accessories&Peripherals|Cables&Accessories|Cables|USBCables",
         "199.0"
        ],
        [
         "45",
         "Computers&Accessories|Accessories&Peripherals|Cables&Accessories|Cables|USBCables",
         "999.0"
        ],
        [
         "46",
         "Computers&Accessories|NetworkingDevices|NetworkAdapters|WirelessUSBAdapters",
         "1208.0"
        ],
        [
         "47",
         "Electronics|HomeTheater,TV&Video|Accessories|Cables|HDMICables",
         "475.0"
        ],
        [
         "48",
         "Electronics|HomeTheater,TV&Video|Accessories|RemoteControls",
         "999.0"
        ],
        [
         "49",
         "Computers&Accessories|Accessories&Peripherals|Cables&Accessories|Cables|USBCables",
         "395.0"
        ]
       ],
       "shape": {
        "columns": 2,
        "rows": 1465
       }
      },
      "text/html": [
       "<div>\n",
       "<style scoped>\n",
       "    .dataframe tbody tr th:only-of-type {\n",
       "        vertical-align: middle;\n",
       "    }\n",
       "\n",
       "    .dataframe tbody tr th {\n",
       "        vertical-align: top;\n",
       "    }\n",
       "\n",
       "    .dataframe thead th {\n",
       "        text-align: right;\n",
       "    }\n",
       "</style>\n",
       "<table border=\"1\" class=\"dataframe\">\n",
       "  <thead>\n",
       "    <tr style=\"text-align: right;\">\n",
       "      <th></th>\n",
       "      <th>category</th>\n",
       "      <th>actual_price</th>\n",
       "    </tr>\n",
       "  </thead>\n",
       "  <tbody>\n",
       "    <tr>\n",
       "      <th>0</th>\n",
       "      <td>Computers&amp;Accessories|Accessories&amp;Peripherals|...</td>\n",
       "      <td>1099.0</td>\n",
       "    </tr>\n",
       "    <tr>\n",
       "      <th>1</th>\n",
       "      <td>Computers&amp;Accessories|Accessories&amp;Peripherals|...</td>\n",
       "      <td>349.0</td>\n",
       "    </tr>\n",
       "    <tr>\n",
       "      <th>2</th>\n",
       "      <td>Computers&amp;Accessories|Accessories&amp;Peripherals|...</td>\n",
       "      <td>1899.0</td>\n",
       "    </tr>\n",
       "    <tr>\n",
       "      <th>3</th>\n",
       "      <td>Computers&amp;Accessories|Accessories&amp;Peripherals|...</td>\n",
       "      <td>699.0</td>\n",
       "    </tr>\n",
       "    <tr>\n",
       "      <th>4</th>\n",
       "      <td>Computers&amp;Accessories|Accessories&amp;Peripherals|...</td>\n",
       "      <td>399.0</td>\n",
       "    </tr>\n",
       "    <tr>\n",
       "      <th>...</th>\n",
       "      <td>...</td>\n",
       "      <td>...</td>\n",
       "    </tr>\n",
       "    <tr>\n",
       "      <th>1460</th>\n",
       "      <td>Home&amp;Kitchen|Kitchen&amp;HomeAppliances|WaterPurif...</td>\n",
       "      <td>919.0</td>\n",
       "    </tr>\n",
       "    <tr>\n",
       "      <th>1461</th>\n",
       "      <td>Home&amp;Kitchen|Kitchen&amp;HomeAppliances|SmallKitch...</td>\n",
       "      <td>3045.0</td>\n",
       "    </tr>\n",
       "    <tr>\n",
       "      <th>1462</th>\n",
       "      <td>Home&amp;Kitchen|Heating,Cooling&amp;AirQuality|RoomHe...</td>\n",
       "      <td>3080.0</td>\n",
       "    </tr>\n",
       "    <tr>\n",
       "      <th>1463</th>\n",
       "      <td>Home&amp;Kitchen|Heating,Cooling&amp;AirQuality|Fans|E...</td>\n",
       "      <td>1890.0</td>\n",
       "    </tr>\n",
       "    <tr>\n",
       "      <th>1464</th>\n",
       "      <td>Home&amp;Kitchen|Kitchen&amp;HomeAppliances|SmallKitch...</td>\n",
       "      <td>3690.0</td>\n",
       "    </tr>\n",
       "  </tbody>\n",
       "</table>\n",
       "<p>1465 rows × 2 columns</p>\n",
       "</div>"
      ],
      "text/plain": [
       "                                               category  actual_price\n",
       "0     Computers&Accessories|Accessories&Peripherals|...        1099.0\n",
       "1     Computers&Accessories|Accessories&Peripherals|...         349.0\n",
       "2     Computers&Accessories|Accessories&Peripherals|...        1899.0\n",
       "3     Computers&Accessories|Accessories&Peripherals|...         699.0\n",
       "4     Computers&Accessories|Accessories&Peripherals|...         399.0\n",
       "...                                                 ...           ...\n",
       "1460  Home&Kitchen|Kitchen&HomeAppliances|WaterPurif...         919.0\n",
       "1461  Home&Kitchen|Kitchen&HomeAppliances|SmallKitch...        3045.0\n",
       "1462  Home&Kitchen|Heating,Cooling&AirQuality|RoomHe...        3080.0\n",
       "1463  Home&Kitchen|Heating,Cooling&AirQuality|Fans|E...        1890.0\n",
       "1464  Home&Kitchen|Kitchen&HomeAppliances|SmallKitch...        3690.0\n",
       "\n",
       "[1465 rows x 2 columns]"
      ]
     },
     "execution_count": 5,
     "metadata": {},
     "output_type": "execute_result"
    }
   ],
   "source": [
    "df[\"actual_price\"] = df[\"actual_price\"].str.replace(\"₹\", \"\")\n",
    "df[\"actual_price\"] = df[\"actual_price\"].str.replace(\",\", \"\")\n",
    "df[\"actual_price\"] = df[\"actual_price\"].astype(\"float64\")\n",
    "df"
   ]
  },
  {
   "cell_type": "code",
   "execution_count": 6,
   "id": "8bfbd1f2",
   "metadata": {},
   "outputs": [],
   "source": [
    "# summary chart\n",
    "top_categorical_sales = (\n",
    "    df.groupby(\"category\")[\"actual_price\"].sum().sort_values(ascending=True)\n",
    ")\n",
    "# export to Excel\n",
    "with pd.ExcelWriter(\"top_categorical_sales.xlsx\") as writer:\n",
    "    top_categorical_sales.to_excel(writer, sheet_name=\"Sales Categories\")"
   ]
  },
  {
   "cell_type": "markdown",
   "id": "6feb1184",
   "metadata": {},
   "source": [
    "**Formatting the excel file with openpyxl**\n"
   ]
  },
  {
   "cell_type": "code",
   "execution_count": 7,
   "id": "aac2d359",
   "metadata": {},
   "outputs": [],
   "source": [
    "# loading the Excel file\n",
    "workbook = load_workbook(\"top_categorical_sales.xlsx\")\n",
    "\n",
    "# the sheet\n",
    "sheet = workbook[\"Sales Categories\"]"
   ]
  },
  {
   "cell_type": "code",
   "execution_count": 8,
   "id": "1533d03f",
   "metadata": {},
   "outputs": [],
   "source": [
    "# setting up the font\n",
    "header_font = Font(bold=True, name=\"DejaVu Serif\")\n",
    "header_fil = PatternFill(start_color=\"C70039\", end_color=\"C70039\", fill_type=\"solid\")\n",
    "\n",
    "for cell in sheet[1]:\n",
    "    cell.font = header_font\n",
    "    cell.fill = header_fil"
   ]
  },
  {
   "cell_type": "code",
   "execution_count": 9,
   "id": "2e5293c8",
   "metadata": {},
   "outputs": [],
   "source": [
    "MIN_WIDTH = 12  \n",
    "for column_cells in sheet.iter_cols():\n",
    "    max_length = 0\n",
    "    column_letter = get_column_letter(column_cells[0].column)\n",
    "    \n",
    "    for cell in column_cells:\n",
    "        if cell.value:\n",
    "            try:\n",
    "                cell_length = len(str(cell.value))\n",
    "                if cell_length > max_length:\n",
    "                    max_length = cell_length\n",
    "            except None:\n",
    "                pass\n",
    "\n",
    "    # Ensure a minimum width\n",
    "    adjusted_width = max(max_length + 2, MIN_WIDTH)\n",
    "    sheet.column_dimensions[column_letter].width = adjusted_width\n"
   ]
  },
  {
   "cell_type": "code",
   "execution_count": 11,
   "id": "6e380aee",
   "metadata": {},
   "outputs": [],
   "source": [
    "# export Excel file\n",
    "workbook.save(\"top_products_per_categories.xlsx\")"
   ]
  },
  {
   "cell_type": "code",
   "execution_count": null,
   "id": "aa9233d3",
   "metadata": {},
   "outputs": [],
   "source": []
  }
 ],
 "metadata": {
  "kernelspec": {
   "display_name": "Python 3",
   "language": "python",
   "name": "python3"
  },
  "language_info": {
   "codemirror_mode": {
    "name": "ipython",
    "version": 3
   },
   "file_extension": ".py",
   "mimetype": "text/x-python",
   "name": "python",
   "nbconvert_exporter": "python",
   "pygments_lexer": "ipython3",
   "version": "3.10.12"
  }
 },
 "nbformat": 4,
 "nbformat_minor": 5
}
