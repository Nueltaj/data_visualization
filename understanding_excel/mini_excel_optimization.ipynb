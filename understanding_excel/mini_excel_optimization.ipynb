{
 "cells": [
  {
   "cell_type": "markdown",
   "id": "8f32efab",
   "metadata": {},
   "source": [
    "\n",
    "**Pyton  + Excel Automation**"
   ]
  },
  {
   "cell_type": "code",
   "execution_count": 16,
   "id": "5a870ae4",
   "metadata": {},
   "outputs": [],
   "source": [
    "# Importing libraries\n",
    "import pandas as pd"
   ]
  },
  {
   "cell_type": "code",
   "execution_count": 17,
   "id": "b58b7954",
   "metadata": {},
   "outputs": [],
   "source": [
    "# Storing file paths\n",
    "FILENAME1= \"/home/nueltaj/Downloads/py/data_visualization/sales_jan.xlsx\"\n",
    "FILENAME2= \"/home/nueltaj/Downloads/py/data_visualization/sales_feb.xlsx\"\n",
    "\n",
    "# Reading the file\n",
    "df1 = pd.read_excel(FILENAME1)\n",
    "df2 = pd.read_excel(FILENAME2)\n"
   ]
  },
  {
   "cell_type": "code",
   "execution_count": 18,
   "id": "518f1313",
   "metadata": {},
   "outputs": [
    {
     "data": {
      "text/plain": [
       "0    1000.0\n",
       "1    1500.0\n",
       "2    2000.0\n",
       "Name: Sales, dtype: float64"
      ]
     },
     "execution_count": 18,
     "metadata": {},
     "output_type": "execute_result"
    }
   ],
   "source": [
    "# Cleaning dataset1\n",
    "df1.isna().any()\n",
    "df1.fillna(value={'Sales':2000}, inplace =True)\n",
    "df1[\"Sales\"]\n"
   ]
  },
  {
   "cell_type": "code",
   "execution_count": 19,
   "id": "2ddf8d66",
   "metadata": {},
   "outputs": [
    {
     "data": {
      "text/plain": [
       "0    1300.0\n",
       "1    1400.0\n",
       "2    1800.0\n",
       "Name: Sales, dtype: float64"
      ]
     },
     "execution_count": 19,
     "metadata": {},
     "output_type": "execute_result"
    }
   ],
   "source": [
    "#cleaning dataset 2\n",
    "df2.isna().any()\n",
    "df2.fillna(value={'Sales':1400}, inplace =True)\n",
    "df2[\"Sales\"]"
   ]
  },
  {
   "cell_type": "code",
   "execution_count": 20,
   "id": "76eb50e6",
   "metadata": {},
   "outputs": [
    {
     "data": {
      "application/vnd.microsoft.datawrangler.viewer.v0+json": {
       "columns": [
        {
         "name": "index",
         "rawType": "int64",
         "type": "integer"
        },
        {
         "name": "Date",
         "rawType": "object",
         "type": "string"
        },
        {
         "name": "Region",
         "rawType": "object",
         "type": "string"
        },
        {
         "name": "Sales",
         "rawType": "float64",
         "type": "float"
        },
        {
         "name": "Product",
         "rawType": "object",
         "type": "string"
        }
       ],
       "conversionMethod": "pd.DataFrame",
       "ref": "552307cd-db6a-47ca-b985-613f1d35caec",
       "rows": [
        [
         "0",
         "2025-01-01",
         "North",
         "1000.0",
         "A"
        ],
        [
         "1",
         "2025-01-02",
         "South",
         "1500.0",
         "B"
        ],
        [
         "2",
         "2025-01-03",
         "East",
         "2000.0",
         "C"
        ],
        [
         "0",
         "2025-02-01",
         "West",
         "1300.0",
         "B"
        ],
        [
         "1",
         "2025-02-02",
         "North",
         "1400.0",
         "A"
        ],
        [
         "2",
         "2025-02-03",
         "South",
         "1800.0",
         "C"
        ]
       ],
       "shape": {
        "columns": 4,
        "rows": 6
       }
      },
      "text/html": [
       "<div>\n",
       "<style scoped>\n",
       "    .dataframe tbody tr th:only-of-type {\n",
       "        vertical-align: middle;\n",
       "    }\n",
       "\n",
       "    .dataframe tbody tr th {\n",
       "        vertical-align: top;\n",
       "    }\n",
       "\n",
       "    .dataframe thead th {\n",
       "        text-align: right;\n",
       "    }\n",
       "</style>\n",
       "<table border=\"1\" class=\"dataframe\">\n",
       "  <thead>\n",
       "    <tr style=\"text-align: right;\">\n",
       "      <th></th>\n",
       "      <th>Date</th>\n",
       "      <th>Region</th>\n",
       "      <th>Sales</th>\n",
       "      <th>Product</th>\n",
       "    </tr>\n",
       "  </thead>\n",
       "  <tbody>\n",
       "    <tr>\n",
       "      <th>0</th>\n",
       "      <td>2025-01-01</td>\n",
       "      <td>North</td>\n",
       "      <td>1000.0</td>\n",
       "      <td>A</td>\n",
       "    </tr>\n",
       "    <tr>\n",
       "      <th>1</th>\n",
       "      <td>2025-01-02</td>\n",
       "      <td>South</td>\n",
       "      <td>1500.0</td>\n",
       "      <td>B</td>\n",
       "    </tr>\n",
       "    <tr>\n",
       "      <th>2</th>\n",
       "      <td>2025-01-03</td>\n",
       "      <td>East</td>\n",
       "      <td>2000.0</td>\n",
       "      <td>C</td>\n",
       "    </tr>\n",
       "    <tr>\n",
       "      <th>0</th>\n",
       "      <td>2025-02-01</td>\n",
       "      <td>West</td>\n",
       "      <td>1300.0</td>\n",
       "      <td>B</td>\n",
       "    </tr>\n",
       "    <tr>\n",
       "      <th>1</th>\n",
       "      <td>2025-02-02</td>\n",
       "      <td>North</td>\n",
       "      <td>1400.0</td>\n",
       "      <td>A</td>\n",
       "    </tr>\n",
       "    <tr>\n",
       "      <th>2</th>\n",
       "      <td>2025-02-03</td>\n",
       "      <td>South</td>\n",
       "      <td>1800.0</td>\n",
       "      <td>C</td>\n",
       "    </tr>\n",
       "  </tbody>\n",
       "</table>\n",
       "</div>"
      ],
      "text/plain": [
       "         Date Region   Sales Product\n",
       "0  2025-01-01  North  1000.0       A\n",
       "1  2025-01-02  South  1500.0       B\n",
       "2  2025-01-03   East  2000.0       C\n",
       "0  2025-02-01   West  1300.0       B\n",
       "1  2025-02-02  North  1400.0       A\n",
       "2  2025-02-03  South  1800.0       C"
      ]
     },
     "execution_count": 20,
     "metadata": {},
     "output_type": "execute_result"
    }
   ],
   "source": [
    "# Combining both charts\n",
    "df_combined=pd.concat([df1,df2])\n",
    "df_combined"
   ]
  },
  {
   "cell_type": "code",
   "execution_count": 21,
   "id": "277ab8aa",
   "metadata": {},
   "outputs": [],
   "source": [
    "# Converting to an excel file\n",
    "df_combined.to_excel(\"Sales_q1.xlsx\", index = False)"
   ]
  },
  {
   "cell_type": "markdown",
   "id": "71a8f931",
   "metadata": {},
   "source": [
    "**Wanna create a summary chart**"
   ]
  },
  {
   "cell_type": "code",
   "execution_count": 22,
   "id": "d9a55405",
   "metadata": {},
   "outputs": [],
   "source": [
    "# Store the file's path\n",
    "FILENAME = \"/home/nueltaj/Downloads/py/data_visualization/Sales_q1.xlsx\"\n",
    "df = pd.read_excel(FILENAME)\n",
    "\n",
    "# Total sales by region\n",
    "region_summary = df.groupby(\"Region\")[\"Sales\"].sum().reset_index()\n",
    "\n",
    "# Top selling products\n",
    "top_products = (\n",
    "    df.groupby(\"Product\")[\"Sales\"].sum().sort_values(ascending=False).reset_index()\n",
    ")"
   ]
  },
  {
   "cell_type": "code",
   "execution_count": 23,
   "id": "5c3863f9",
   "metadata": {},
   "outputs": [],
   "source": [
    "# export to excel\n",
    "with pd.ExcelWriter(\"Sales_summary.xlsx\") as writer:\n",
    "    region_summary.to_excel(writer, sheet_name=\"Region Summary\", index=False)\n",
    "    top_products.to_excel(writer, sheet_name=\"Product summary\", index=False)"
   ]
  },
  {
   "cell_type": "markdown",
   "id": "c989c1b5",
   "metadata": {},
   "source": [
    "formating the  excel file with openpyxl"
   ]
  },
  {
   "cell_type": "code",
   "execution_count": 24,
   "id": "7a3a5902",
   "metadata": {},
   "outputs": [],
   "source": [
    "from openpyxl import load_workbook\n",
    "from openpyxl.styles import Font, PatternFill\n",
    "from openpyxl.utils import get_column_letter\n",
    "\n",
    "# Load the Excel file \n",
    "workbook = load_workbook(\"Sales_q1.xlsx\")\n",
    "\n",
    "# worsheet to be formatted\n",
    "sheet = workbook[\"Sheet1\"]\n"
   ]
  },
  {
   "cell_type": "code",
   "execution_count": 25,
   "id": "b4b8d54f",
   "metadata": {},
   "outputs": [],
   "source": [
    "header_font = Font(bold=True)\n",
    "header_fill = PatternFill(start_color=\"ADD8E6\", end_color=\"ADD8E6\", fill_type=\"solid\")\n",
    "\n",
    "for cell in sheet[1]:\n",
    "    cell.font = header_font\n",
    "    cell.fill = header_fill\n"
   ]
  },
  {
   "cell_type": "code",
   "execution_count": 26,
   "id": "4a869907",
   "metadata": {},
   "outputs": [],
   "source": [
    "# autofit  the colun widths\n",
    "for column in sheet.columns:\n",
    "    max_length = 0\n",
    "    column_letter = get_column_letter(column[0].column)\n",
    "    for cell in column:\n",
    "        try:\n",
    "            if cell.value:\n",
    "                max_length=max(max_length,len(str(cell.value)))\n",
    "                \n",
    "        except None:\n",
    "            pass\n",
    "    adjusted_width = max_length + 2\n",
    "    sheet.column_dimensions[column_letter].width = adjusted_width"
   ]
  },
  {
   "cell_type": "code",
   "execution_count": 27,
   "id": "a4ea32b5",
   "metadata": {},
   "outputs": [],
   "source": [
    "workbook.save(\"final_report.xlsx\")\n"
   ]
  },
  {
   "cell_type": "code",
   "execution_count": null,
   "id": "e68aa8c4",
   "metadata": {},
   "outputs": [],
   "source": []
  }
 ],
 "metadata": {
  "kernelspec": {
   "display_name": "Python 3",
   "language": "python",
   "name": "python3"
  },
  "language_info": {
   "codemirror_mode": {
    "name": "ipython",
    "version": 3
   },
   "file_extension": ".py",
   "mimetype": "text/x-python",
   "name": "python",
   "nbconvert_exporter": "python",
   "pygments_lexer": "ipython3",
   "version": "3.10.12"
  }
 },
 "nbformat": 4,
 "nbformat_minor": 5
}
