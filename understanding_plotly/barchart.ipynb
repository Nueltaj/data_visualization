{
 "cells": [
  {
   "cell_type": "markdown",
   "id": "86bd3c13",
   "metadata": {},
   "source": [
    "**This script is about Understanding the use of plotly in creating interactive plotly barcharts** \n"
   ]
  },
  {
   "cell_type": "code",
   "execution_count": 40,
   "id": "2408c2db",
   "metadata": {},
   "outputs": [],
   "source": [
    "#importing libraries\n",
    "import pandas as pd\n",
    "import plotly.offline as pyo\n",
    "import plotly.graph_objs as go\n"
   ]
  },
  {
   "cell_type": "code",
   "execution_count": 41,
   "id": "4261e8eb",
   "metadata": {},
   "outputs": [
    {
     "data": {
      "application/vnd.microsoft.datawrangler.viewer.v0+json": {
       "columns": [
        {
         "name": "Date.Full",
         "rawType": "datetime64[ns, UTC]",
         "type": "unknown"
        },
        {
         "name": "Data.Temperature.Avg Temp",
         "rawType": "float64",
         "type": "float"
        },
        {
         "name": "Data.Wind.Speed",
         "rawType": "float64",
         "type": "float"
        }
       ],
       "conversionMethod": "pd.DataFrame",
       "ref": "500c696e-738a-407c-a5fb-b5b5b65e038e",
       "rows": [
        [
         "2016-01-03 00:00:00+00:00",
         "34.84126984126984",
         "7.0614920634920635"
        ],
        [
         "2016-01-10 00:00:00+00:00",
         "35.13968253968254",
         "6.540158730158731"
        ],
        [
         "2016-01-17 00:00:00+00:00",
         "33.8",
         "6.5737460317460314"
        ],
        [
         "2016-01-24 00:00:00+00:00",
         "32.266666666666666",
         "7.008984126984127"
        ],
        [
         "2016-01-31 00:00:00+00:00",
         "40.79047619047619",
         "6.841746031746032"
        ]
       ],
       "shape": {
        "columns": 2,
        "rows": 5
       }
      },
      "text/html": [
       "<div>\n",
       "<style scoped>\n",
       "    .dataframe tbody tr th:only-of-type {\n",
       "        vertical-align: middle;\n",
       "    }\n",
       "\n",
       "    .dataframe tbody tr th {\n",
       "        vertical-align: top;\n",
       "    }\n",
       "\n",
       "    .dataframe thead th {\n",
       "        text-align: right;\n",
       "    }\n",
       "</style>\n",
       "<table border=\"1\" class=\"dataframe\">\n",
       "  <thead>\n",
       "    <tr style=\"text-align: right;\">\n",
       "      <th></th>\n",
       "      <th>Data.Temperature.Avg Temp</th>\n",
       "      <th>Data.Wind.Speed</th>\n",
       "    </tr>\n",
       "    <tr>\n",
       "      <th>Date.Full</th>\n",
       "      <th></th>\n",
       "      <th></th>\n",
       "    </tr>\n",
       "  </thead>\n",
       "  <tbody>\n",
       "    <tr>\n",
       "      <th>2016-01-03 00:00:00+00:00</th>\n",
       "      <td>34.841270</td>\n",
       "      <td>7.061492</td>\n",
       "    </tr>\n",
       "    <tr>\n",
       "      <th>2016-01-10 00:00:00+00:00</th>\n",
       "      <td>35.139683</td>\n",
       "      <td>6.540159</td>\n",
       "    </tr>\n",
       "    <tr>\n",
       "      <th>2016-01-17 00:00:00+00:00</th>\n",
       "      <td>33.800000</td>\n",
       "      <td>6.573746</td>\n",
       "    </tr>\n",
       "    <tr>\n",
       "      <th>2016-01-24 00:00:00+00:00</th>\n",
       "      <td>32.266667</td>\n",
       "      <td>7.008984</td>\n",
       "    </tr>\n",
       "    <tr>\n",
       "      <th>2016-01-31 00:00:00+00:00</th>\n",
       "      <td>40.790476</td>\n",
       "      <td>6.841746</td>\n",
       "    </tr>\n",
       "  </tbody>\n",
       "</table>\n",
       "</div>"
      ],
      "text/plain": [
       "                           Data.Temperature.Avg Temp  Data.Wind.Speed\n",
       "Date.Full                                                            \n",
       "2016-01-03 00:00:00+00:00                  34.841270         7.061492\n",
       "2016-01-10 00:00:00+00:00                  35.139683         6.540159\n",
       "2016-01-17 00:00:00+00:00                  33.800000         6.573746\n",
       "2016-01-24 00:00:00+00:00                  32.266667         7.008984\n",
       "2016-01-31 00:00:00+00:00                  40.790476         6.841746"
      ]
     },
     "execution_count": 41,
     "metadata": {},
     "output_type": "execute_result"
    }
   ],
   "source": [
    "#Storing the file path \n",
    "FILENAME =\"/home/nueltaj/Downloads/py/data_visualization/weather.csv\"\n",
    "weather = pd.read_csv(FILENAME)\n",
    "weather.head()\n",
    "weather[\"Date.Full\"] = pd.to_datetime(weather[\"Date.Full\"], utc=True)\n",
    "weather_dt = pd.pivot_table(weather, values =[\"Data.Temperature.Avg Temp\",\"Data.Wind.Speed\"], index =\"Date.Full\")\n",
    "weather_dt.head()\n"
   ]
  },
  {
   "cell_type": "code",
   "execution_count": 62,
   "id": "f55a20d6",
   "metadata": {},
   "outputs": [],
   "source": [
    "#creating a data object\n",
    "\n",
    "trace0 =go.Bar(\n",
    "    x = weather_dt.index,\n",
    "    y= weather_dt[\"Data.Temperature.Avg Temp\"],\n",
    "    marker=dict(color=\"rgb(150,150,150)\"),\n",
    "    name = \"Avg Temp\"\n",
    ")\n",
    "#adding a linechart unto a bar chart\n",
    "trace1 =go.Scatter(\n",
    "    x = weather_dt.index,\n",
    "    y= weather_dt[\"Data.Wind.Speed\"],\n",
    "    mode=\"markers+lines\",\n",
    "    name = \"Avg wind speed\"\n",
    ")"
   ]
  },
  {
   "cell_type": "code",
   "execution_count": 63,
   "id": "67cb9348",
   "metadata": {},
   "outputs": [],
   "source": [
    "data =[trace0, trace1]"
   ]
  },
  {
   "cell_type": "code",
   "execution_count": 64,
   "id": "84a21628",
   "metadata": {},
   "outputs": [
    {
     "data": {
      "text/plain": [
       "'temp-plot.html'"
      ]
     },
     "execution_count": 64,
     "metadata": {},
     "output_type": "execute_result"
    }
   ],
   "source": [
    "#visualizing section\n",
    "layout =go.Layout(title=dict(text = \"Average temperature and Wind speed\",x=0.5,xanchor=\"center\"))\n",
    "figure = go.Figure(data=data,layout=layout)\n",
    "figure.update_layout(hovermode = \"x unified\")\n",
    "pyo.plot(figure)"
   ]
  },
  {
   "cell_type": "code",
   "execution_count": null,
   "id": "ba36831f",
   "metadata": {},
   "outputs": [],
   "source": []
  }
 ],
 "metadata": {
  "kernelspec": {
   "display_name": "Python 3",
   "language": "python",
   "name": "python3"
  },
  "language_info": {
   "codemirror_mode": {
    "name": "ipython",
    "version": 3
   },
   "file_extension": ".py",
   "mimetype": "text/x-python",
   "name": "python",
   "nbconvert_exporter": "python",
   "pygments_lexer": "ipython3",
   "version": "3.10.12"
  }
 },
 "nbformat": 4,
 "nbformat_minor": 5
}
