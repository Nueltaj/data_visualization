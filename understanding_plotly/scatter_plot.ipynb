{
 "cells": [
  {
   "cell_type": "markdown",
   "id": "6f0524e2",
   "metadata": {},
   "source": [
    "**This script is about Understanding the use of plotly in creating interactive plotly scatter plots** "
   ]
  },
  {
   "cell_type": "code",
   "execution_count": 2,
   "id": "afcf7c8d",
   "metadata": {},
   "outputs": [],
   "source": [
    "# importing libraries\n",
    "import plotly.offline as pyo\n",
    "import matplotlib.pyplot as plt\n",
    "import pandas as pd\n",
    "import plotly.graph_objs as go"
   ]
  },
  {
   "cell_type": "code",
   "execution_count": 3,
   "id": "6b78de63",
   "metadata": {},
   "outputs": [
    {
     "data": {
      "image/png": "[encoded data removed]",
      "text/plain": [
       "<Figure size 640x480 with 1 Axes>"
      ]
     },
     "metadata": {},
     "output_type": "display_data"
    }
   ],
   "source": [
    "# stores the file path.\n",
    "FILENAME = \"/home/nueltaj/Downloads/py/data_visualization/Orders/Order Year/2009.xlsx\"\n",
    "# read the file\n",
    "orders = pd.read_excel(FILENAME)\n",
    "# make a plot using the matplotlib function\n",
    "plt.plot(orders.Sales)\n",
    "# show the plot\n",
    "plt.show()"
   ]
  },
  {
   "cell_type": "code",
   "execution_count": 4,
   "id": "b5c7f627",
   "metadata": {},
   "outputs": [
    {
     "data": {
      "application/vnd.microsoft.datawrangler.viewer.v0+json": {
       "columns": [
        {
         "name": "index",
         "rawType": "int64",
         "type": "integer"
        },
        {
         "name": "Sales",
         "rawType": "float64",
         "type": "float"
        },
        {
         "name": "Profit",
         "rawType": "float64",
         "type": "float"
        }
       ],
       "conversionMethod": "pd.DataFrame",
       "ref": "2907daa7-d669-4d91-9c0a-37ac4587c702",
       "rows": [
        [
         "0",
         "248.26",
         "93.8"
        ],
        [
         "1",
         "191.67",
         "-236.2675"
        ],
        [
         "2",
         "5586.33",
         "80.44"
        ],
        [
         "3",
         "507.64",
         "118.94"
        ],
        [
         "4",
         "1285.37",
         "514.07"
        ]
       ],
       "shape": {
        "columns": 2,
        "rows": 5
       }
      },
      "text/html": [
       "<div>\n",
       "<style scoped>\n",
       "    .dataframe tbody tr th:only-of-type {\n",
       "        vertical-align: middle;\n",
       "    }\n",
       "\n",
       "    .dataframe tbody tr th {\n",
       "        vertical-align: top;\n",
       "    }\n",
       "\n",
       "    .dataframe thead th {\n",
       "        text-align: right;\n",
       "    }\n",
       "</style>\n",
       "<table border=\"1\" class=\"dataframe\">\n",
       "  <thead>\n",
       "    <tr style=\"text-align: right;\">\n",
       "      <th></th>\n",
       "      <th>Sales</th>\n",
       "      <th>Profit</th>\n",
       "    </tr>\n",
       "  </thead>\n",
       "  <tbody>\n",
       "    <tr>\n",
       "      <th>0</th>\n",
       "      <td>248.26</td>\n",
       "      <td>93.8000</td>\n",
       "    </tr>\n",
       "    <tr>\n",
       "      <th>1</th>\n",
       "      <td>191.67</td>\n",
       "      <td>-236.2675</td>\n",
       "    </tr>\n",
       "    <tr>\n",
       "      <th>2</th>\n",
       "      <td>5586.33</td>\n",
       "      <td>80.4400</td>\n",
       "    </tr>\n",
       "    <tr>\n",
       "      <th>3</th>\n",
       "      <td>507.64</td>\n",
       "      <td>118.9400</td>\n",
       "    </tr>\n",
       "    <tr>\n",
       "      <th>4</th>\n",
       "      <td>1285.37</td>\n",
       "      <td>514.0700</td>\n",
       "    </tr>\n",
       "  </tbody>\n",
       "</table>\n",
       "</div>"
      ],
      "text/plain": [
       "     Sales    Profit\n",
       "0   248.26   93.8000\n",
       "1   191.67 -236.2675\n",
       "2  5586.33   80.4400\n",
       "3   507.64  118.9400\n",
       "4  1285.37  514.0700"
      ]
     },
     "execution_count": 4,
     "metadata": {},
     "output_type": "execute_result"
    }
   ],
   "source": [
    "# retrieve the columns we want to use.\n",
    "orders_sf = orders[[\"Sales\",\"Profit\"]]\n",
    "orders_sf.head()"
   ]
  },
  {
   "cell_type": "code",
   "execution_count": 5,
   "id": "844ab413",
   "metadata": {},
   "outputs": [
    {
     "data": {
      "text/plain": [
       "'temp-plot.html'"
      ]
     },
     "execution_count": 5,
     "metadata": {},
     "output_type": "execute_result"
    }
   ],
   "source": [
    "# using the plotly.offline function to visualize the sales and profit of the year 2009\n",
    "pyo.plot(\n",
    "    [{\"x\": orders_sf.index, \"y\": orders_sf[col], \"name\": col} for col in orders_sf.columns]\n",
    ")"
   ]
  },
  {
   "cell_type": "code",
   "execution_count": null,
   "id": "1840ec4a",
   "metadata": {},
   "outputs": [],
   "source": [
    "# creating a scatter plot\n",
    "# create an object\n",
    "data = [\n",
    "    go.Scatter(\n",
    "        x=orders_sf.Sales,\n",
    "        y=orders_sf.Profit,\n",
    "        mode=\"markers\",\n",
    "        marker=dict(size=10, color=\"blue\", symbol = \"square\"),\n",
    "        line=dict(width=2),\n",
    "    )\n",
    "]\n",
    "\n",
    "data1 = [\n",
    "    go.Scatter(\n",
    "        x=orders_sf.Sales,\n",
    "        y=orders_sf.Profit,\n",
    "        mode=\"markers\",\n",
    "        marker=dict(size=10, color=\"blue\", symbol = \"square\"),\n",
    "        line=dict(width=2),\n",
    "    )\n",
    "]"
   ]
  },
  {
   "cell_type": "code",
   "execution_count": 7,
   "id": "df3909d3",
   "metadata": {},
   "outputs": [],
   "source": [
    "layout = go.Layout(\n",
    "    title=dict(text=\"Sales vs Profit Chart\",x=0.5,xanchor=\"center\"),\n",
    "    xaxis=dict(title=\"Sales in K\"),\n",
    "    yaxis=dict(title=\"Profit in K\"),\n",
    ")"
   ]
  },
  {
   "cell_type": "code",
   "execution_count": 8,
   "id": "1fed92df",
   "metadata": {},
   "outputs": [],
   "source": [
    "figure = go.Figure(data=data, layout=layout)"
   ]
  },
  {
   "cell_type": "code",
   "execution_count": 9,
   "id": "f68c6d68",
   "metadata": {},
   "outputs": [
    {
     "data": {
      "text/plain": [
       "'temp-plot.html'"
      ]
     },
     "execution_count": 9,
     "metadata": {},
     "output_type": "execute_result"
    }
   ],
   "source": [
    "# using the plotly.offline function to visualize a scatter plot of sales and profit of the year 2019\n",
    "pyo.plot(figure)"
   ]
  },
  {
   "cell_type": "code",
   "execution_count": null,
   "id": "8ac0cb5d",
   "metadata": {},
   "outputs": [],
   "source": []
  }
 ],
 "metadata": {
  "kernelspec": {
   "display_name": "Python 3",
   "language": "python",
   "name": "python3"
  },
  "language_info": {
   "codemirror_mode": {
    "name": "ipython",
    "version": 3
   },
   "file_extension": ".py",
   "mimetype": "text/x-python",
   "name": "python",
   "nbconvert_exporter": "python",
   "pygments_lexer": "ipython3",
   "version": "3.10.12"
  }
 },
 "nbformat": 4,
 "nbformat_minor": 5
}
