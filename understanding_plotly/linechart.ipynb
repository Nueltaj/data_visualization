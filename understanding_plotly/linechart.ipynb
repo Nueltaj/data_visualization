{
 "cells": [
  {
   "cell_type": "markdown",
   "id": "4a5def9e",
   "metadata": {},
   "source": [
    "**This script is about Understanding the use of plotly in creating interactive plotly linecharts** "
   ]
  },
  {
   "cell_type": "code",
   "execution_count": 98,
   "id": "d0266fed",
   "metadata": {},
   "outputs": [],
   "source": [
    "#importing libraries\n",
    "import pandas as pd\n",
    "import plotly.offline as pyo\n",
    "import plotly.graph_objs as go\n"
   ]
  },
  {
   "cell_type": "code",
   "execution_count": 99,
   "id": "eda5c4c7",
   "metadata": {},
   "outputs": [
    {
     "data": {
      "application/vnd.microsoft.datawrangler.viewer.v0+json": {
       "columns": [
        {
         "name": "index",
         "rawType": "int64",
         "type": "integer"
        },
        {
         "name": "Data.Precipitation",
         "rawType": "float64",
         "type": "float"
        },
        {
         "name": "Date.Full",
         "rawType": "object",
         "type": "string"
        },
        {
         "name": "Date.Month",
         "rawType": "int64",
         "type": "integer"
        },
        {
         "name": "Date.Week of",
         "rawType": "int64",
         "type": "integer"
        },
        {
         "name": "Date.Year",
         "rawType": "int64",
         "type": "integer"
        },
        {
         "name": "Station.City",
         "rawType": "object",
         "type": "string"
        },
        {
         "name": "Station.Code",
         "rawType": "object",
         "type": "string"
        },
        {
         "name": "Station.Location",
         "rawType": "object",
         "type": "string"
        },
        {
         "name": "Station.State",
         "rawType": "object",
         "type": "string"
        },
        {
         "name": "Data.Temperature.Avg Temp",
         "rawType": "int64",
         "type": "integer"
        },
        {
         "name": "Data.Temperature.Max Temp",
         "rawType": "int64",
         "type": "integer"
        },
        {
         "name": "Data.Temperature.Min Temp",
         "rawType": "int64",
         "type": "integer"
        },
        {
         "name": "Data.Wind.Direction",
         "rawType": "int64",
         "type": "integer"
        },
        {
         "name": "Data.Wind.Speed",
         "rawType": "float64",
         "type": "float"
        }
       ],
       "conversionMethod": "pd.DataFrame",
       "ref": "ec532bfc-b193-4444-be9e-f371f0d2469e",
       "rows": [
        [
         "0",
         "0.0",
         "2016-01-03",
         "1",
         "3",
         "2016",
         "Birmingham",
         "BHM",
         "Birmingham, AL",
         "Alabama",
         "39",
         "46",
         "32",
         "33",
         "4.33"
        ],
        [
         "1",
         "0.0",
         "2016-01-03",
         "1",
         "3",
         "2016",
         "Huntsville",
         "HSV",
         "Huntsville, AL",
         "Alabama",
         "39",
         "47",
         "31",
         "32",
         "3.86"
        ],
        [
         "2",
         "0.16",
         "2016-01-03",
         "1",
         "3",
         "2016",
         "Mobile",
         "MOB",
         "Mobile, AL",
         "Alabama",
         "46",
         "51",
         "41",
         "35",
         "9.73"
        ],
        [
         "3",
         "0.0",
         "2016-01-03",
         "1",
         "3",
         "2016",
         "Montgomery",
         "MGM",
         "Montgomery, AL",
         "Alabama",
         "45",
         "52",
         "38",
         "32",
         "6.86"
        ],
        [
         "4",
         "0.01",
         "2016-01-03",
         "1",
         "3",
         "2016",
         "Anchorage",
         "ANC",
         "Anchorage, AK",
         "Alaska",
         "34",
         "38",
         "29",
         "19",
         "7.8"
        ]
       ],
       "shape": {
        "columns": 14,
        "rows": 5
       }
      },
      "text/html": [
       "<div>\n",
       "<style scoped>\n",
       "    .dataframe tbody tr th:only-of-type {\n",
       "        vertical-align: middle;\n",
       "    }\n",
       "\n",
       "    .dataframe tbody tr th {\n",
       "        vertical-align: top;\n",
       "    }\n",
       "\n",
       "    .dataframe thead th {\n",
       "        text-align: right;\n",
       "    }\n",
       "</style>\n",
       "<table border=\"1\" class=\"dataframe\">\n",
       "  <thead>\n",
       "    <tr style=\"text-align: right;\">\n",
       "      <th></th>\n",
       "      <th>Data.Precipitation</th>\n",
       "      <th>Date.Full</th>\n",
       "      <th>Date.Month</th>\n",
       "      <th>Date.Week of</th>\n",
       "      <th>Date.Year</th>\n",
       "      <th>Station.City</th>\n",
       "      <th>Station.Code</th>\n",
       "      <th>Station.Location</th>\n",
       "      <th>Station.State</th>\n",
       "      <th>Data.Temperature.Avg Temp</th>\n",
       "      <th>Data.Temperature.Max Temp</th>\n",
       "      <th>Data.Temperature.Min Temp</th>\n",
       "      <th>Data.Wind.Direction</th>\n",
       "      <th>Data.Wind.Speed</th>\n",
       "    </tr>\n",
       "  </thead>\n",
       "  <tbody>\n",
       "    <tr>\n",
       "      <th>0</th>\n",
       "      <td>0.00</td>\n",
       "      <td>2016-01-03</td>\n",
       "      <td>1</td>\n",
       "      <td>3</td>\n",
       "      <td>2016</td>\n",
       "      <td>Birmingham</td>\n",
       "      <td>BHM</td>\n",
       "      <td>Birmingham, AL</td>\n",
       "      <td>Alabama</td>\n",
       "      <td>39</td>\n",
       "      <td>46</td>\n",
       "      <td>32</td>\n",
       "      <td>33</td>\n",
       "      <td>4.33</td>\n",
       "    </tr>\n",
       "    <tr>\n",
       "      <th>1</th>\n",
       "      <td>0.00</td>\n",
       "      <td>2016-01-03</td>\n",
       "      <td>1</td>\n",
       "      <td>3</td>\n",
       "      <td>2016</td>\n",
       "      <td>Huntsville</td>\n",
       "      <td>HSV</td>\n",
       "      <td>Huntsville, AL</td>\n",
       "      <td>Alabama</td>\n",
       "      <td>39</td>\n",
       "      <td>47</td>\n",
       "      <td>31</td>\n",
       "      <td>32</td>\n",
       "      <td>3.86</td>\n",
       "    </tr>\n",
       "    <tr>\n",
       "      <th>2</th>\n",
       "      <td>0.16</td>\n",
       "      <td>2016-01-03</td>\n",
       "      <td>1</td>\n",
       "      <td>3</td>\n",
       "      <td>2016</td>\n",
       "      <td>Mobile</td>\n",
       "      <td>MOB</td>\n",
       "      <td>Mobile, AL</td>\n",
       "      <td>Alabama</td>\n",
       "      <td>46</td>\n",
       "      <td>51</td>\n",
       "      <td>41</td>\n",
       "      <td>35</td>\n",
       "      <td>9.73</td>\n",
       "    </tr>\n",
       "    <tr>\n",
       "      <th>3</th>\n",
       "      <td>0.00</td>\n",
       "      <td>2016-01-03</td>\n",
       "      <td>1</td>\n",
       "      <td>3</td>\n",
       "      <td>2016</td>\n",
       "      <td>Montgomery</td>\n",
       "      <td>MGM</td>\n",
       "      <td>Montgomery, AL</td>\n",
       "      <td>Alabama</td>\n",
       "      <td>45</td>\n",
       "      <td>52</td>\n",
       "      <td>38</td>\n",
       "      <td>32</td>\n",
       "      <td>6.86</td>\n",
       "    </tr>\n",
       "    <tr>\n",
       "      <th>4</th>\n",
       "      <td>0.01</td>\n",
       "      <td>2016-01-03</td>\n",
       "      <td>1</td>\n",
       "      <td>3</td>\n",
       "      <td>2016</td>\n",
       "      <td>Anchorage</td>\n",
       "      <td>ANC</td>\n",
       "      <td>Anchorage, AK</td>\n",
       "      <td>Alaska</td>\n",
       "      <td>34</td>\n",
       "      <td>38</td>\n",
       "      <td>29</td>\n",
       "      <td>19</td>\n",
       "      <td>7.80</td>\n",
       "    </tr>\n",
       "  </tbody>\n",
       "</table>\n",
       "</div>"
      ],
      "text/plain": [
       "   Data.Precipitation   Date.Full  Date.Month  Date.Week of  Date.Year  \\\n",
       "0                0.00  2016-01-03           1             3       2016   \n",
       "1                0.00  2016-01-03           1             3       2016   \n",
       "2                0.16  2016-01-03           1             3       2016   \n",
       "3                0.00  2016-01-03           1             3       2016   \n",
       "4                0.01  2016-01-03           1             3       2016   \n",
       "\n",
       "  Station.City Station.Code Station.Location Station.State  \\\n",
       "0   Birmingham          BHM   Birmingham, AL       Alabama   \n",
       "1   Huntsville          HSV   Huntsville, AL       Alabama   \n",
       "2       Mobile          MOB       Mobile, AL       Alabama   \n",
       "3   Montgomery          MGM   Montgomery, AL       Alabama   \n",
       "4    Anchorage          ANC    Anchorage, AK        Alaska   \n",
       "\n",
       "   Data.Temperature.Avg Temp  Data.Temperature.Max Temp  \\\n",
       "0                         39                         46   \n",
       "1                         39                         47   \n",
       "2                         46                         51   \n",
       "3                         45                         52   \n",
       "4                         34                         38   \n",
       "\n",
       "   Data.Temperature.Min Temp  Data.Wind.Direction  Data.Wind.Speed  \n",
       "0                         32                   33             4.33  \n",
       "1                         31                   32             3.86  \n",
       "2                         41                   35             9.73  \n",
       "3                         38                   32             6.86  \n",
       "4                         29                   19             7.80  "
      ]
     },
     "execution_count": 99,
     "metadata": {},
     "output_type": "execute_result"
    }
   ],
   "source": [
    "#Storing the file path \n",
    "FILENAME =\"/home/nueltaj/Downloads/py/data_visualization/weather.csv\"\n",
    "weather = pd.read_csv(FILENAME)\n",
    "weather.head()"
   ]
  },
  {
   "cell_type": "code",
   "execution_count": 100,
   "id": "332eae81",
   "metadata": {},
   "outputs": [
    {
     "data": {
      "application/vnd.microsoft.datawrangler.viewer.v0+json": {
       "columns": [
        {
         "name": "index",
         "rawType": "object",
         "type": "string"
        },
        {
         "name": "2016-01-03 00:00:00+00:00",
         "rawType": "float64",
         "type": "float"
        },
        {
         "name": "2016-01-10 00:00:00+00:00",
         "rawType": "float64",
         "type": "float"
        },
        {
         "name": "2016-01-17 00:00:00+00:00",
         "rawType": "float64",
         "type": "float"
        },
        {
         "name": "2016-01-24 00:00:00+00:00",
         "rawType": "float64",
         "type": "float"
        },
        {
         "name": "2016-01-31 00:00:00+00:00",
         "rawType": "float64",
         "type": "float"
        },
        {
         "name": "2016-02-07 00:00:00+00:00",
         "rawType": "float64",
         "type": "float"
        },
        {
         "name": "2016-02-14 00:00:00+00:00",
         "rawType": "float64",
         "type": "float"
        },
        {
         "name": "2016-02-21 00:00:00+00:00",
         "rawType": "float64",
         "type": "float"
        },
        {
         "name": "2016-02-28 00:00:00+00:00",
         "rawType": "float64",
         "type": "float"
        },
        {
         "name": "2016-03-06 00:00:00+00:00",
         "rawType": "float64",
         "type": "float"
        },
        {
         "name": "2016-03-13 00:00:00+00:00",
         "rawType": "float64",
         "type": "float"
        },
        {
         "name": "2016-03-20 00:00:00+00:00",
         "rawType": "float64",
         "type": "float"
        },
        {
         "name": "2016-03-27 00:00:00+00:00",
         "rawType": "float64",
         "type": "float"
        },
        {
         "name": "2016-04-03 00:00:00+00:00",
         "rawType": "float64",
         "type": "float"
        },
        {
         "name": "2016-04-10 00:00:00+00:00",
         "rawType": "float64",
         "type": "float"
        },
        {
         "name": "2016-04-17 00:00:00+00:00",
         "rawType": "float64",
         "type": "float"
        },
        {
         "name": "2016-04-24 00:00:00+00:00",
         "rawType": "float64",
         "type": "float"
        },
        {
         "name": "2016-05-01 00:00:00+00:00",
         "rawType": "float64",
         "type": "float"
        },
        {
         "name": "2016-05-08 00:00:00+00:00",
         "rawType": "float64",
         "type": "float"
        },
        {
         "name": "2016-05-15 00:00:00+00:00",
         "rawType": "float64",
         "type": "float"
        },
        {
         "name": "2016-05-22 00:00:00+00:00",
         "rawType": "float64",
         "type": "float"
        },
        {
         "name": "2016-05-29 00:00:00+00:00",
         "rawType": "float64",
         "type": "float"
        },
        {
         "name": "2016-06-05 00:00:00+00:00",
         "rawType": "float64",
         "type": "float"
        },
        {
         "name": "2016-06-12 00:00:00+00:00",
         "rawType": "float64",
         "type": "float"
        },
        {
         "name": "2016-06-19 00:00:00+00:00",
         "rawType": "float64",
         "type": "float"
        },
        {
         "name": "2016-06-26 00:00:00+00:00",
         "rawType": "float64",
         "type": "float"
        },
        {
         "name": "2016-07-03 00:00:00+00:00",
         "rawType": "float64",
         "type": "float"
        },
        {
         "name": "2016-07-10 00:00:00+00:00",
         "rawType": "float64",
         "type": "float"
        },
        {
         "name": "2016-07-17 00:00:00+00:00",
         "rawType": "float64",
         "type": "float"
        },
        {
         "name": "2016-07-24 00:00:00+00:00",
         "rawType": "float64",
         "type": "float"
        },
        {
         "name": "2016-07-31 00:00:00+00:00",
         "rawType": "float64",
         "type": "float"
        },
        {
         "name": "2016-08-07 00:00:00+00:00",
         "rawType": "float64",
         "type": "float"
        },
        {
         "name": "2016-08-14 00:00:00+00:00",
         "rawType": "float64",
         "type": "float"
        },
        {
         "name": "2016-08-21 00:00:00+00:00",
         "rawType": "float64",
         "type": "float"
        },
        {
         "name": "2016-08-28 00:00:00+00:00",
         "rawType": "float64",
         "type": "float"
        },
        {
         "name": "2016-09-04 00:00:00+00:00",
         "rawType": "float64",
         "type": "float"
        },
        {
         "name": "2016-09-11 00:00:00+00:00",
         "rawType": "float64",
         "type": "float"
        },
        {
         "name": "2016-09-18 00:00:00+00:00",
         "rawType": "float64",
         "type": "float"
        },
        {
         "name": "2016-09-25 00:00:00+00:00",
         "rawType": "float64",
         "type": "float"
        },
        {
         "name": "2016-10-02 00:00:00+00:00",
         "rawType": "float64",
         "type": "float"
        },
        {
         "name": "2016-10-09 00:00:00+00:00",
         "rawType": "float64",
         "type": "float"
        },
        {
         "name": "2016-10-16 00:00:00+00:00",
         "rawType": "float64",
         "type": "float"
        },
        {
         "name": "2016-10-23 00:00:00+00:00",
         "rawType": "float64",
         "type": "float"
        },
        {
         "name": "2016-10-30 00:00:00+00:00",
         "rawType": "float64",
         "type": "float"
        },
        {
         "name": "2016-11-06 00:00:00+00:00",
         "rawType": "float64",
         "type": "float"
        },
        {
         "name": "2016-11-13 00:00:00+00:00",
         "rawType": "float64",
         "type": "float"
        },
        {
         "name": "2016-11-20 00:00:00+00:00",
         "rawType": "float64",
         "type": "float"
        },
        {
         "name": "2016-11-27 00:00:00+00:00",
         "rawType": "float64",
         "type": "float"
        },
        {
         "name": "2016-12-04 00:00:00+00:00",
         "rawType": "float64",
         "type": "float"
        },
        {
         "name": "2016-12-11 00:00:00+00:00",
         "rawType": "float64",
         "type": "float"
        },
        {
         "name": "2016-12-18 00:00:00+00:00",
         "rawType": "float64",
         "type": "float"
        },
        {
         "name": "2016-12-25 00:00:00+00:00",
         "rawType": "float64",
         "type": "float"
        },
        {
         "name": "2017-01-01 00:00:00+00:00",
         "rawType": "float64",
         "type": "float"
        }
       ],
       "conversionMethod": "pd.DataFrame",
       "ref": "f35ff8bf-35fa-4619-8154-5662168c1f70",
       "rows": [
        [
         "Data.Temperature.Avg Temp",
         "34.84126984126984",
         "35.13968253968254",
         "33.8",
         "32.266666666666666",
         "40.79047619047619",
         "39.180952380952384",
         "35.453968253968256",
         "44.457142857142856",
         "44.39047619047619",
         "44.5583596214511",
         "52.60952380952381",
         "48.7015873015873",
         "48.84761904761905",
         "51.17981072555205",
         "50.69620253164557",
         "54.61708860759494",
         "59.05696202531646",
         "57.90220820189275",
         "59.16403785488959",
         "60.85488958990536",
         "60.889589905362776",
         "66.88958990536278",
         "69.94637223974763",
         "70.60317460317461",
         "71.74285714285715",
         "73.94603174603175",
         "72.35443037974683",
         "74.74203821656052",
         "74.88216560509554",
         "77.12101910828025",
         "76.46815286624204",
         "75.3186119873817",
         "75.65299684542586",
         "73.87066246056783",
         "72.81388012618297",
         "69.94006309148266",
         "70.99367088607595",
         "68.10759493670886",
         "68.60443037974683",
         "62.66876971608833",
         "60.943217665615144",
         "59.08832807570978",
         "58.35015772870663",
         "56.75709779179811",
         "56.33438485804417",
         "51.37261146496815",
         "47.94904458598726",
         "43.30891719745223",
         "39.769716088328074",
         "33.46687697160883",
         "31.889589905362776",
         "37.4794952681388",
         "39.76656151419559"
        ],
        [
         "Data.Wind.Speed",
         "7.0614920634920635",
         "6.540158730158731",
         "6.5737460317460314",
         "7.008984126984127",
         "6.841746031746032",
         "7.2192380952380955",
         "7.476571428571428",
         "7.154095238095238",
         "7.759365079365079",
         "6.270567823343849",
         "7.038285714285714",
         "6.937333333333334",
         "7.569142857142857",
         "7.9092113564668765",
         "7.812974683544304",
         "7.159651898734177",
         "6.151645569620253",
         "6.585047318611988",
         "6.184511041009464",
         "6.71167192429022",
         "6.441892744479495",
         "5.741009463722397",
         "5.2002523659305995",
         "6.314984126984127",
         "6.058666666666666",
         "5.896698412698413",
         "5.785284810126583",
         "6.239968152866242",
         "6.0718152866242034",
         "5.4644585987261145",
         "4.756464968152867",
         "5.134132492113564",
         "5.479085173501577",
         "4.987539432176656",
         "5.21776025236593",
         "6.253438485804416",
         "5.695537974683544",
         "5.139145569620253",
         "5.39006329113924",
         "4.915299684542587",
         "6.451482649842271",
         "6.553911671924291",
         "6.499968454258674",
         "5.965425867507887",
         "5.1457097791798105",
         "5.659808917197452",
         "6.3002229299363055",
         "6.206528662420382",
         "6.530883280757098",
         "6.771514195583597",
         "7.194763406940062",
         "6.575047318611987",
         "7.4920504731861195"
        ]
       ],
       "shape": {
        "columns": 53,
        "rows": 2
       }
      },
      "text/html": [
       "<div>\n",
       "<style scoped>\n",
       "    .dataframe tbody tr th:only-of-type {\n",
       "        vertical-align: middle;\n",
       "    }\n",
       "\n",
       "    .dataframe tbody tr th {\n",
       "        vertical-align: top;\n",
       "    }\n",
       "\n",
       "    .dataframe thead th {\n",
       "        text-align: right;\n",
       "    }\n",
       "</style>\n",
       "<table border=\"1\" class=\"dataframe\">\n",
       "  <thead>\n",
       "    <tr style=\"text-align: right;\">\n",
       "      <th>Date.Full</th>\n",
       "      <th>2016-01-03 00:00:00+00:00</th>\n",
       "      <th>2016-01-10 00:00:00+00:00</th>\n",
       "      <th>2016-01-17 00:00:00+00:00</th>\n",
       "      <th>2016-01-24 00:00:00+00:00</th>\n",
       "      <th>2016-01-31 00:00:00+00:00</th>\n",
       "      <th>2016-02-07 00:00:00+00:00</th>\n",
       "      <th>2016-02-14 00:00:00+00:00</th>\n",
       "      <th>2016-02-21 00:00:00+00:00</th>\n",
       "      <th>2016-02-28 00:00:00+00:00</th>\n",
       "      <th>2016-03-06 00:00:00+00:00</th>\n",
       "      <th>...</th>\n",
       "      <th>2016-10-30 00:00:00+00:00</th>\n",
       "      <th>2016-11-06 00:00:00+00:00</th>\n",
       "      <th>2016-11-13 00:00:00+00:00</th>\n",
       "      <th>2016-11-20 00:00:00+00:00</th>\n",
       "      <th>2016-11-27 00:00:00+00:00</th>\n",
       "      <th>2016-12-04 00:00:00+00:00</th>\n",
       "      <th>2016-12-11 00:00:00+00:00</th>\n",
       "      <th>2016-12-18 00:00:00+00:00</th>\n",
       "      <th>2016-12-25 00:00:00+00:00</th>\n",
       "      <th>2017-01-01 00:00:00+00:00</th>\n",
       "    </tr>\n",
       "  </thead>\n",
       "  <tbody>\n",
       "    <tr>\n",
       "      <th>Data.Temperature.Avg Temp</th>\n",
       "      <td>34.841270</td>\n",
       "      <td>35.139683</td>\n",
       "      <td>33.800000</td>\n",
       "      <td>32.266667</td>\n",
       "      <td>40.790476</td>\n",
       "      <td>39.180952</td>\n",
       "      <td>35.453968</td>\n",
       "      <td>44.457143</td>\n",
       "      <td>44.390476</td>\n",
       "      <td>44.558360</td>\n",
       "      <td>...</td>\n",
       "      <td>56.757098</td>\n",
       "      <td>56.334385</td>\n",
       "      <td>51.372611</td>\n",
       "      <td>47.949045</td>\n",
       "      <td>43.308917</td>\n",
       "      <td>39.769716</td>\n",
       "      <td>33.466877</td>\n",
       "      <td>31.889590</td>\n",
       "      <td>37.479495</td>\n",
       "      <td>39.766562</td>\n",
       "    </tr>\n",
       "    <tr>\n",
       "      <th>Data.Wind.Speed</th>\n",
       "      <td>7.061492</td>\n",
       "      <td>6.540159</td>\n",
       "      <td>6.573746</td>\n",
       "      <td>7.008984</td>\n",
       "      <td>6.841746</td>\n",
       "      <td>7.219238</td>\n",
       "      <td>7.476571</td>\n",
       "      <td>7.154095</td>\n",
       "      <td>7.759365</td>\n",
       "      <td>6.270568</td>\n",
       "      <td>...</td>\n",
       "      <td>5.965426</td>\n",
       "      <td>5.145710</td>\n",
       "      <td>5.659809</td>\n",
       "      <td>6.300223</td>\n",
       "      <td>6.206529</td>\n",
       "      <td>6.530883</td>\n",
       "      <td>6.771514</td>\n",
       "      <td>7.194763</td>\n",
       "      <td>6.575047</td>\n",
       "      <td>7.492050</td>\n",
       "    </tr>\n",
       "  </tbody>\n",
       "</table>\n",
       "<p>2 rows × 53 columns</p>\n",
       "</div>"
      ],
      "text/plain": [
       "Date.Full                  2016-01-03 00:00:00+00:00  \\\n",
       "Data.Temperature.Avg Temp                  34.841270   \n",
       "Data.Wind.Speed                             7.061492   \n",
       "\n",
       "Date.Full                  2016-01-10 00:00:00+00:00  \\\n",
       "Data.Temperature.Avg Temp                  35.139683   \n",
       "Data.Wind.Speed                             6.540159   \n",
       "\n",
       "Date.Full                  2016-01-17 00:00:00+00:00  \\\n",
       "Data.Temperature.Avg Temp                  33.800000   \n",
       "Data.Wind.Speed                             6.573746   \n",
       "\n",
       "Date.Full                  2016-01-24 00:00:00+00:00  \\\n",
       "Data.Temperature.Avg Temp                  32.266667   \n",
       "Data.Wind.Speed                             7.008984   \n",
       "\n",
       "Date.Full                  2016-01-31 00:00:00+00:00  \\\n",
       "Data.Temperature.Avg Temp                  40.790476   \n",
       "Data.Wind.Speed                             6.841746   \n",
       "\n",
       "Date.Full                  2016-02-07 00:00:00+00:00  \\\n",
       "Data.Temperature.Avg Temp                  39.180952   \n",
       "Data.Wind.Speed                             7.219238   \n",
       "\n",
       "Date.Full                  2016-02-14 00:00:00+00:00  \\\n",
       "Data.Temperature.Avg Temp                  35.453968   \n",
       "Data.Wind.Speed                             7.476571   \n",
       "\n",
       "Date.Full                  2016-02-21 00:00:00+00:00  \\\n",
       "Data.Temperature.Avg Temp                  44.457143   \n",
       "Data.Wind.Speed                             7.154095   \n",
       "\n",
       "Date.Full                  2016-02-28 00:00:00+00:00  \\\n",
       "Data.Temperature.Avg Temp                  44.390476   \n",
       "Data.Wind.Speed                             7.759365   \n",
       "\n",
       "Date.Full                  2016-03-06 00:00:00+00:00  ...  \\\n",
       "Data.Temperature.Avg Temp                  44.558360  ...   \n",
       "Data.Wind.Speed                             6.270568  ...   \n",
       "\n",
       "Date.Full                  2016-10-30 00:00:00+00:00  \\\n",
       "Data.Temperature.Avg Temp                  56.757098   \n",
       "Data.Wind.Speed                             5.965426   \n",
       "\n",
       "Date.Full                  2016-11-06 00:00:00+00:00  \\\n",
       "Data.Temperature.Avg Temp                  56.334385   \n",
       "Data.Wind.Speed                             5.145710   \n",
       "\n",
       "Date.Full                  2016-11-13 00:00:00+00:00  \\\n",
       "Data.Temperature.Avg Temp                  51.372611   \n",
       "Data.Wind.Speed                             5.659809   \n",
       "\n",
       "Date.Full                  2016-11-20 00:00:00+00:00  \\\n",
       "Data.Temperature.Avg Temp                  47.949045   \n",
       "Data.Wind.Speed                             6.300223   \n",
       "\n",
       "Date.Full                  2016-11-27 00:00:00+00:00  \\\n",
       "Data.Temperature.Avg Temp                  43.308917   \n",
       "Data.Wind.Speed                             6.206529   \n",
       "\n",
       "Date.Full                  2016-12-04 00:00:00+00:00  \\\n",
       "Data.Temperature.Avg Temp                  39.769716   \n",
       "Data.Wind.Speed                             6.530883   \n",
       "\n",
       "Date.Full                  2016-12-11 00:00:00+00:00  \\\n",
       "Data.Temperature.Avg Temp                  33.466877   \n",
       "Data.Wind.Speed                             6.771514   \n",
       "\n",
       "Date.Full                  2016-12-18 00:00:00+00:00  \\\n",
       "Data.Temperature.Avg Temp                  31.889590   \n",
       "Data.Wind.Speed                             7.194763   \n",
       "\n",
       "Date.Full                  2016-12-25 00:00:00+00:00  \\\n",
       "Data.Temperature.Avg Temp                  37.479495   \n",
       "Data.Wind.Speed                             6.575047   \n",
       "\n",
       "Date.Full                  2017-01-01 00:00:00+00:00  \n",
       "Data.Temperature.Avg Temp                  39.766562  \n",
       "Data.Wind.Speed                             7.492050  \n",
       "\n",
       "[2 rows x 53 columns]"
      ]
     },
     "execution_count": 100,
     "metadata": {},
     "output_type": "execute_result"
    }
   ],
   "source": [
    "weather[\"Date.Full\"] = pd.to_datetime(weather[\"Date.Full\"], utc=True)\n",
    "weather_dt = pd.pivot_table(weather, values =[\"Data.Temperature.Avg Temp\",\"Data.Wind.Speed\"], columns =\"Date.Full\")\n",
    "weather_dt.head()\n"
   ]
  },
  {
   "cell_type": "code",
   "execution_count": null,
   "id": "53b48df5",
   "metadata": {},
   "outputs": [],
   "source": [
    "# automating the dataset variable for the lines\n",
    "line = [\n",
    "    go.Scatter(\n",
    "        x=weather_dt.columns,\n",
    "        y=weather_dt.loc[row_name],\n",
    "        mode=\"lines+markers\",\n",
    "        name=f\"{row_name}\",\n",
    "    )\n",
    "    for row_name in weather_dt.index\n",
    "]"
   ]
  },
  {
   "cell_type": "code",
   "execution_count": 102,
   "id": "db03b30e",
   "metadata": {},
   "outputs": [],
   "source": [
    "# trace0= go.Scatter(\n",
    "#         x=weather_dt.index,\n",
    "#         y=weather_dt[\"Data.Temperature.Avg Temp\"],\n",
    "#         mode=\"markers+lines\",\n",
    "#         name=\"Average Temperature\"\n",
    "#     )\n",
    "# trace1 =go.Scatter(\n",
    "#         x=weather_dt.index,\n",
    "#         y=weather_dt[\"Data.Wind.Speed\"],\n",
    "#         mode=\"lines\",\n",
    "#         name=\"Average Wind speed\"\n",
    "#     )\n"
   ]
  },
  {
   "cell_type": "code",
   "execution_count": 103,
   "id": "72e62791",
   "metadata": {},
   "outputs": [],
   "source": [
    "#data = [trace0,trace1]"
   ]
  },
  {
   "cell_type": "code",
   "execution_count": 104,
   "id": "02d2676a",
   "metadata": {},
   "outputs": [],
   "source": [
    "layout =go.Layout(title=dict(text = \"Average temperature and wind speed\",x=0.5,xanchor=\"center\"))"
   ]
  },
  {
   "cell_type": "code",
   "execution_count": 105,
   "id": "3544b9b3",
   "metadata": {},
   "outputs": [
    {
     "data": {
      "text/plain": [
       "'temp-plot.html'"
      ]
     },
     "execution_count": 105,
     "metadata": {},
     "output_type": "execute_result"
    }
   ],
   "source": [
    "figure = go.Figure(data=line,layout=layout)\n",
    "pyo.plot(figure)"
   ]
  },
  {
   "cell_type": "code",
   "execution_count": null,
   "id": "5858af99",
   "metadata": {},
   "outputs": [],
   "source": []
  }
 ],
 "metadata": {
  "kernelspec": {
   "display_name": "Python 3",
   "language": "python",
   "name": "python3"
  },
  "language_info": {
   "codemirror_mode": {
    "name": "ipython",
    "version": 3
   },
   "file_extension": ".py",
   "mimetype": "text/x-python",
   "name": "python",
   "nbconvert_exporter": "python",
   "pygments_lexer": "ipython3",
   "version": "3.10.12"
  }
 },
 "nbformat": 4,
 "nbformat_minor": 5
}
